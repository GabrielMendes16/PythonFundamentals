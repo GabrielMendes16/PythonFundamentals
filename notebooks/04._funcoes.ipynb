{
 "cells": [
  {
   "cell_type": "markdown",
   "metadata": {},
   "source": [
    "# 04 - Funções em Python\n",
    "\n",
    "Neste notebook, vamos aprender sobre funções em Python, que são blocos de código reutilizáveis que realizam uma tarefa específica.\n",
    "\n",
    "## Tabela de Conteúdos\n",
    "\n",
    "1. [O que são Funções?](#o-que-são-funções)\n",
    "2. [Definindo Funções](#definindo-funções)\n",
    "   - [Funções sem Parâmetros](#funções-sem-parâmetros)\n",
    "   - [Funções com Parâmetros](#funções-com-parâmetros)\n",
    "   - [Funções com Retorno](#funções-com-retorno)\n",
    "   - [Funções sem Retorno](#funções-sem-retorno)\n",
    "3. [Funções Anônimas (Lambda)](#funções-anônimas-lambda)\n",
    "4. [Funções Aninhadas](#funções-aninhadas)\n",
    "5. [Exercícios Práticos](#exercícios-práticos)\n",
    "6. [Questionário Teórico](#questionário)\n",
    "7. [Conclusão](#conclusão)\n",
    "\n",
    "\n",
    "## O que são Funções?\n",
    "\n",
    "Uma função é um conjunto de instruções que executa uma ação e pode retornar um valor. Ao invés de escrever o mesmo código repetidamente, podemos definir uma função e chamá-la sempre que necessário.\n",
    "\n",
    "## Definindo Funções:\n",
    "\n",
    "A definição de uma função em Python é feita utilizando a palavra-chave def, seguida pelo nome da função e parênteses. Dentro dos parênteses, podemos especificar parâmetros que a função receberá. Abaixo está a estrutura básica de uma função:\n",
    "\n",
    "## Observação:\n",
    "Os parâmetros de uma função são opcionais, o que significa que uma função pode ser definida sem receber nenhum parâmetro. No entanto, quando uma função possui a necessidade de operar com dados externos, é comum que ela tenha parâmetros definidos. Portanto, enquanto uma função pode existir sem parâmetros, muitas vezes elas são utilizadas para tornar a função mais flexível e útil.\n",
    "\n",
    "## Funções Sem Parâmentros:\n",
    "\n",
    "### Exemplo:\n",
    "\n",
    "```python\n",
    "\n",
    "def ola_mundo():\n",
    "    print(\"Olá, Mundo!\")\n",
    "```\n",
    "\n",
    "## Funções Com Paramentros:\n",
    "\n",
    "### Exemplo: \n",
    "\n",
    "```python\n",
    "def nome_da_funcao(parametro1, parametro2):\n",
    "    # Código que a função executa\n",
    "    return resultado\n",
    "```"
   ]
  },
  {
   "cell_type": "markdown",
   "metadata": {},
   "source": [
    "## Exemplo Prático de Definição de Função:\n",
    "\n",
    "Neste exemplo, vamos criar uma função simples que calcula a soma de dois números e explorar dois modos diferentes de exibir o resultado dessa função.\n",
    "\n",
    "## Definição da Função: \n",
    "Começamos definindo a função somar, que recebe dois parâmetros, x e y. Dentro da função, calculamos a soma e retornamos o resultado.\n",
    "\n",
    "```python\n",
    "def somar(x, y):\n",
    "    resultado_da_soma = x + y\n",
    "    return resultado_da_soma\n",
    "```\n",
    "\n",
    "## Chamada da Função e Exibição do Resultado:\n",
    "Vamos agora ver duas maneiras de chamar a função somar e exibir o resultado.\n",
    "\n",
    "### Atribuindo o Resultado a uma Variável:\n",
    "\n",
    "```python\n",
    "resultado_da_soma(somar(10,5))\n",
    "print(resultado_da_soma)\n",
    "```\n",
    "## Explicação:\n",
    "\n",
    "Nesta abordagem, o resultado da função é atribuído à variável resultado_da_soma. Essa é a maneira mais comum e recomendada, pois permite que você reutilize o resultado em outras partes do seu código.\n",
    "\n",
    "## Imprimindo o Resultado Diretamente:\n",
    "\n",
    "```python\n",
    "print(somar(10, 5)) \n",
    "```\n",
    "## Explicação:\n",
    "\n",
    "Neste caso, estamos chamando a função e imprimindo o resultado diretamente. Essa abordagem é prática para visualização rápida, mas não permite o reaproveitamento do valor retornado.\n",
    "\n",
    "## Então Ficamos Certos Que A Melhor Prática É:\n",
    "\n",
    "resultado_da_soma = somar(10, 5) \n",
    "\n",
    "### Sendo a mais utilizada e recomendada, pois:\n",
    "A Reutilização ao atribuir o resultado a uma variável, você pode usá-lo em cálculos adicionais, condições ou exibições em diferentes partes do código."
   ]
  },
  {
   "cell_type": "code",
   "execution_count": 8,
   "metadata": {},
   "outputs": [
    {
     "name": "stdout",
     "output_type": "stream",
     "text": [
      "15\n"
     ]
    }
   ],
   "source": [
    "# Veja o Exemplo Prático de Definição de Função:\n",
    "# Vamos criar uma função simples que calcula a soma de dois números:\n",
    "\n",
    "def somar(x,y):\n",
    "    resultado_da_soma = x + y\n",
    "    return resultado_da_soma\n",
    "\n",
    "resultado_da_soma =  (somar(10,5))\n",
    "print(resultado_da_soma)"
   ]
  },
  {
   "cell_type": "markdown",
   "metadata": {},
   "source": [
    "## Funções com Parâmetros Opcionais\n",
    "\n",
    "Em Python, também podemos definir parâmetros opcionais, atribuindo um valor padrão a eles. Isso permite que a função seja chamada com ou sem esses parâmetros. Veja o exemplo:\n",
    "\n",
    "### Aqui, se chamarmos a função saudacao apenas com o nome, ela usará a mensagem padrão:\n",
    "\n",
    "```python\n",
    "def saudacao(nome, mensagem=\"Olá\"):\n",
    "    return (f\"{mensagem}, {nome}\")\n",
    "```\n",
    "\n",
    "## Explicação do Código:\n",
    "\n",
    "A função saudacao é definida com dois parâmetros: nome e mensagem. O parâmetro mensagem tem um valor padrão de \"Olá\".\n",
    "1. ### Na primeira chamada:\n",
    "    Usamos apenas o nome \"Jubileu\", então a função retorna \"Olá, Jubileu\".\n",
    "2. ### Na segunda chamada:\n",
    "    Passamos \"Oi\" como nova mensagem, resultando em \"Oi, Jubileu\".\n",
    "\n",
    "Dessa forma, a função se torna flexível e permite personalizar a saudação conforme desejado."
   ]
  },
  {
   "cell_type": "code",
   "execution_count": null,
   "metadata": {},
   "outputs": [],
   "source": [
    "# Veja o Exemplo Prático de Definição de Função Com Parâmetros Opcionais:\n",
    "\n",
    "def saudacao(nome, mensagem=\"Olá\"):\n",
    "    return(f\"{mensagem}, {nome}\")\n",
    "\n",
    "print(saudacao(\"Jubileu\"))\n",
    "print(saudacao(\"Jubileu\", \"Oi\" ))"
   ]
  },
  {
   "cell_type": "markdown",
   "metadata": {},
   "source": [
    "## Funções Sem Retorno\n",
    "\n",
    "Uma função pode não retornar um valor. Nesse caso, ela simplesmente executa suas instruções. Por exemplo:\n",
    "\n",
    "```python\n",
    "def imprimir_informacao(mensagem):\n",
    "    print(mensagem)\n",
    "    if mensagem == \"Sua Mensagem\":\n",
    "        print(\"Sua resposta\")\n",
    "```\n",
    "## Neste Exemplo:\n",
    "\n",
    "A função não retorna nenhum valor; ela apenas realiza a impressão das informações. Isso é útil quando queremos executar ações que não exigem um resultado a ser utilizado posteriormente."
   ]
  },
  {
   "cell_type": "code",
   "execution_count": null,
   "metadata": {},
   "outputs": [],
   "source": [
    "# Veja o Exemplo Prático de Definição de Funções Sem Retorno:\n",
    "\n",
    "def imprimir_informacao(mensagem):\n",
    "    print(mensagem)\n",
    "    if mensagem == \"Olá, tudo bem ?\":\n",
    "        print(\"Sim, estou bem.\")\n",
    "\n",
    "imprimir_informacao(\"Olá, tudo bem ?\")"
   ]
  },
  {
   "cell_type": "markdown",
   "metadata": {},
   "source": [
    "## O que são Funções Anônimas (Lambda)?\n",
    "\n",
    "As funções anônimas, ou funções lambda, são um tipo especial de função em Python (e em várias outras linguagens de programação) que não precisam ser nomeadas. Elas são úteis para situações em que você precisa de uma função simples e não quer se preocupar em definir uma função completa usando a palavra-chave def.\n",
    "\n",
    "## Características das Funções Lambda:\n",
    "\n",
    "1. ### Sintaxe Simples: \n",
    "    A sintaxe de uma função lambda é muito compacta. Ela utiliza a palavra-chave lambda, seguida de uma lista de parâmetros, um operador e uma expressão.\n",
    "\n",
    "    ```python\n",
    "        lambda argumentos: expresão\n",
    "    ```\n",
    "2. ### Sem Nome: \n",
    "    Funções lambda são anônimas. Elas não têm um nome definido, o que as torna úteis para uso temporário.\n",
    "\n",
    "3. ### Usadas em Contextos Específicos: \n",
    "    Geralmente, funções lambda são usadas em situações onde você precisa de uma função para um curto espaço de tempo, como em funções de ordem superior. \n",
    "    Por exemplo:  map, filter, sorted.\n",
    "\n",
    "As funções anônimas (lambda) são uma maneira concisa e eficaz de criar funções simples em Python. Elas são especialmente úteis quando você precisa de uma função temporária para aplicar a elementos de uma lista ou para passar como argumento em outra função.\n",
    "\n",
    "# Vamos Criar Uma Função lambda para somar dois números\n",
    "\n",
    "```python\n",
    "soma = lambda x, y: x + y\n",
    "\n",
    "# Vamos fazer uso da função lambda\n",
    "\n",
    "resultado = soma(5, 3)\n",
    "print(resultado)  \n",
    "\n",
    "```\n",
    "\n",
    "## Neste Exemplo:\n",
    "\n",
    "Criamos uma função lambda chamada soma que recebe dois parâmetros (x e y) e retorna a soma deles. Podemos chamá-la como qualquer outra função e obter o resultado."
   ]
  },
  {
   "cell_type": "code",
   "execution_count": null,
   "metadata": {},
   "outputs": [],
   "source": [
    "# Exemplo prático de função lambda\n",
    "\n",
    "soma = lambda x, y: x+y\n",
    "resultado = soma(5,3)\n",
    "print(resultado)"
   ]
  },
  {
   "cell_type": "markdown",
   "metadata": {},
   "source": [
    "## Funções Lambda em Listas\n",
    "\n",
    "Funções lambda são frequentemente usadas com listas para realizar operações rápidas. Por exemplo:\n",
    "\n",
    "```python\n",
    "\n",
    "numeros = [1, 2, 3, 4, 5]\n",
    "\n",
    "dobrando_os_valores = list(map(lambda x: x * 2, numeros))\n",
    "print(dobrando_os_valores)  # Saída: [2, 4, 6, 8, 10]\n",
    "```\n"
   ]
  },
  {
   "cell_type": "code",
   "execution_count": null,
   "metadata": {},
   "outputs": [],
   "source": [
    "numeros = [1,2,3,4,5]\n",
    "\n",
    "dobrando_os_valores = list(map(lambda x: x * 2, numeros))\n",
    "print(dobrando_os_valores)"
   ]
  },
  {
   "cell_type": "markdown",
   "metadata": {},
   "source": [
    "## Funções Aninhadas\n",
    "\n",
    "## O que são Funções Aninhadas?\n",
    "\n",
    "Funções aninhadas são funções definidas dentro de outra função. Isso significa que você pode usar uma função como parte do processo de outra. As funções aninhadas são úteis por várias razões, como:\n",
    "\n",
    "### 1. Encapsulamento: \n",
    "    A função interna pode ser usada apenas dentro da função externa, ajudando a evitar conflitos de nomes.\n",
    "\n",
    "### 2. Organização: \n",
    "    Ajuda a organizar o código, agrupando funcionalidades relacionadas.\n",
    "\n",
    "\n",
    "## Exemplo De Uma Função Aninhadas\n",
    "\n",
    "```python\n",
    "def calcular_area(base, altura):\n",
    "    def area_triangulo(b, h):\n",
    "        return (b * h) / 2\n",
    "    \n",
    "    return area_triangulo(base, altura)\n",
    "```\n",
    "## Explicação do Exemplo em Três Pasos:\n",
    "\n",
    "### 1. Definição da Função Externa: \n",
    "    A função calcular_area é a função externa, que recebe base e altura como parâmetros.\n",
    "\n",
    "### 2. Definição da Função Interna: \n",
    "    Dentro da função calcular_area, definimos a função area_triangulo, que calcula a área de um triângulo usando a fórmula \n",
    "\n",
    "### 3. Retorno da Função Interna: \n",
    "    A função externa chama a função interna area_triangulo e retorna seu resultado."
   ]
  },
  {
   "cell_type": "code",
   "execution_count": 41,
   "metadata": {},
   "outputs": [
    {
     "name": "stdout",
     "output_type": "stream",
     "text": [
      "O resulto da área do triangulo é: 25.0\n"
     ]
    }
   ],
   "source": [
    "# Exemplo Prático de Função Aninhadas\n",
    "\n",
    "def calculo_da_areas(base, altura):\n",
    "\n",
    "    def area_do_triangulo(b,h):\n",
    "        return (b*h) / 2\n",
    "    return area_do_triangulo(base,altura)\n",
    "\n",
    "area_do_triangulo = calculo_da_areas(5,10)\n",
    "\n",
    "print(f\"O resulto da área do triangulo é: {area_do_triangulo}\")"
   ]
  },
  {
   "cell_type": "markdown",
   "metadata": {},
   "source": [
    "## Outro Exemplo:\n",
    "\n",
    "Este exemplo demonstra o uso de funções aninhadas para calcular a área de duas formas geométricas: um triângulo e um retângulo. A função externa calculo_das_areas chama duas funções internas, area_do_triangulo e area_do_retangulo, que calculam as respectivas áreas. No final, a função externa retorna o resultado de ambos os cálculos.\n",
    "\n",
    "```python\n",
    "def calculo_das_areas(base, altura):\n",
    "\n",
    "    def area_do_triangulo(b, h):\n",
    "        return (b * h) / 2\n",
    "\n",
    "    def area_do_retangulo(b, h):\n",
    "        return b * h\n",
    "    \n",
    "    triangulo = area_do_triangulo(base, altura)\n",
    "    retangulo = area_do_retangulo(base, altura)\n",
    "    \n",
    "    return triangulo, retangulo\n",
    "\n",
    "triangulo, retangulo = calculo_das_areas(5, 10)\n",
    "\n",
    "print(f\"Área do triângulo: {triangulo} e área do retângulo: {retangulo}\")\n",
    "\n",
    "```\n",
    "\n",
    "## Vamos de fato entender o que acontece neste código:\n",
    "\n",
    "### Função Externa (calculo_das_areas):\n",
    "\n",
    "1. Recebe dois parâmetros: base e altura.\n",
    "    Dentro dela, duas funções internas são definidas para calcular áreas diferentes.\n",
    "\n",
    "2. Função Interna 1 (area_do_triangulo):\n",
    "    Recebe b (base) e h (altura) como parâmetros.\n",
    "    Aplica a fórmula de área de triângulo Área = (Base x Altura) / 2\n",
    "\n",
    "3. Função Interna 2 (area_do_retangulo):\n",
    "    Recebe os mesmos parâmetros b e h.\n",
    "    Aplica a fórmula de área do retângulo: Área = Base x Altura\n",
    "\n",
    "4. Chamada das Funções Internas:\n",
    "    As funções area_do_triangulo e area_do_retangulo são chamadas dentro da função externa usando os valores de base e altura fornecidos como argumentos para calculo_das_areas.\n",
    "    O resultado de ambas as funções é armazenado nas variáveis triangulo e retangulo.\n",
    "\n",
    "5. Retorno dos Resultados:\n",
    "    A função externa retorna uma tupla com os dois valores calculados: a área do triângulo e a área do retângulo.\n",
    "\n",
    "6. Exibição dos Resultados:\n",
    "    O código final imprime o valor das áreas utilizando um print formatado para exibir os dois resultados de forma clara."
   ]
  },
  {
   "cell_type": "code",
   "execution_count": null,
   "metadata": {},
   "outputs": [],
   "source": [
    "# Teste o código mencionado acima:\n",
    "\n",
    "def calculo_das_areas(base, altura):\n",
    "\n",
    "    def area_do_triangulo(b, h):\n",
    "        return (b * h) / 2\n",
    "\n",
    "    def area_do_retangulo(b, h):\n",
    "        return b * h\n",
    "    \n",
    "    triangulo = area_do_triangulo(base, altura)\n",
    "    retangulo = area_do_retangulo(base, altura)\n",
    "    \n",
    "    return triangulo, retangulo\n",
    "\n",
    "triangulo, retangulo = calculo_das_areas(5, 10)\n",
    "\n",
    "print(f\"Área do triângulo: {triangulo} e área do retângulo: {retangulo}\")"
   ]
  },
  {
   "cell_type": "markdown",
   "metadata": {},
   "source": [
    "## Vantagens das Funções Aninhadas\n",
    "\n",
    "### 1. Clareza: \n",
    "    Mantêm o código organizado e fácil de seguir.\n",
    "\n",
    "### 2. Escopo Controlado: \n",
    "    A função interna não pode ser acessada de fora da função externa, ajudando a evitar conflitos de nomes.\n",
    "\n",
    "### 3. Reutilização: \n",
    "    Você pode reutilizar a função interna sempre que chamar a função externa."
   ]
  },
  {
   "cell_type": "markdown",
   "metadata": {},
   "source": [
    "## Exercícios Práticos\n",
    "Logo abaixo você encontrara seis exercícios, para poder colocar em prática o que abordamos neste notebook.\n",
    "Caso precise de ajuda para sua resolução, consulte a pasta de Exercícios Resolvidos, mas recomendo que tente solucionar antes."
   ]
  },
  {
   "cell_type": "code",
   "execution_count": null,
   "metadata": {},
   "outputs": [],
   "source": [
    "# Exercício 1: Função Sem Parâmetros\n",
    "# Crie uma função chamada cumprimentar que, ao ser chamada, imprime a mensagem \"Olá, estudante!\". \n",
    "# Em seguida, chame a função para verificar se ela funciona corretamente."
   ]
  },
  {
   "cell_type": "code",
   "execution_count": null,
   "metadata": {},
   "outputs": [],
   "source": [
    "# Exercício 2: Função Com Parâmetros\n",
    "# Escreva uma função chamada multiplicar que recebe dois números como parâmetros e retorna o resultado da multiplicação desses números. \n",
    "# Teste a função com os valores 7 e 3, e exiba o resultado."
   ]
  },
  {
   "cell_type": "code",
   "execution_count": null,
   "metadata": {},
   "outputs": [],
   "source": [
    "# Exercício 3: Função com Parâmetros Opcionais\n",
    "# Desenvolva uma função chamada apresentar que recebe dois parâmetros: nome e saudacao com valor padrão \"Olá\". \n",
    "# A função deve retornar uma string combinando a saudação e o nome. Teste a função de duas maneiras:\n",
    "\n",
    "# Apenas com o nome \"Ana\".\n",
    "# Com o nome \"Carlos\" e a saudação \"Boa tarde\""
   ]
  },
  {
   "cell_type": "code",
   "execution_count": null,
   "metadata": {},
   "outputs": [],
   "source": [
    "# Exercício 4: Função Sem Retorno\n",
    "# Crie uma função chamada exibir_mensagem que recebe uma string como parâmetro e imprime a mensagem.\n",
    "# Adicione uma condição dentro da função que, se a mensagem for \"Bom dia\", também imprima \"Tenha um ótimo dia!\". \n",
    "# Teste a função com as mensagens \"Bom dia\" e \"Boa noite\"."
   ]
  },
  {
   "cell_type": "code",
   "execution_count": null,
   "metadata": {},
   "outputs": [],
   "source": [
    "# Exercício 5: Função Lambda\n",
    "# Utilizando uma função lambda, crie uma função que recebe um número e retorna seu quadrado. \n",
    "# Aplique essa função na lista [2, 4, 6, 8] utilizando map e exiba a lista resultante."
   ]
  },
  {
   "cell_type": "code",
   "execution_count": null,
   "metadata": {},
   "outputs": [],
   "source": [
    "# Exercício 6: Funções Aninhadas\n",
    "# Desenvolva uma função chamada calcular_volumes que recebe o raio de um cilindro e sua altura. \n",
    "# Dentro dessa função, crie duas funções internas:\n",
    "\n",
    "# volume_cilindro que calcula o volume do cilindro (V = πr²h).\n",
    "# volume_esfera que calcula o volume de uma esfera com o mesmo raio (V = (4/3)πr³).\n",
    "# A função calcular_volumes deve retornar ambos os volumes. Utilize a função para calcular os volumes com raio = 3 e altura = 5, \n",
    "# e exiba os resultados."
   ]
  },
  {
   "cell_type": "markdown",
   "metadata": {},
   "source": [
    "# Questionário\n",
    "\n",
    "Preparei um questionário de dez questões, onde você pode se provar de forma teórica, basta clicar no link abaixo que você será direcionado para este questionário.\n",
    "\n",
    "[Questionário Funções](https://forms.gle/1y1kfgh88WszY4N47)"
   ]
  },
  {
   "cell_type": "markdown",
   "metadata": {},
   "source": [
    "## Conclusão\n",
    "\n",
    "Definir funções em Python é uma habilidade essencial para qualquer programador. Elas ajudam a organizar o código e facilitam a reutilização de blocos de lógica. Ao criar funções, você pode tornar seu código mais claro, conciso e fácil de entender.\n",
    "\n",
    "Agora que você conhece o básico sobre funções em Python, pode explorar mais sobre parâmetros, argumentos e funções aninhadas para enriquecer ainda mais seu conhecimento!"
   ]
  }
 ],
 "metadata": {
  "kernelspec": {
   "display_name": "Python 3",
   "language": "python",
   "name": "python3"
  },
  "language_info": {
   "codemirror_mode": {
    "name": "ipython",
    "version": 3
   },
   "file_extension": ".py",
   "mimetype": "text/x-python",
   "name": "python",
   "nbconvert_exporter": "python",
   "pygments_lexer": "ipython3",
   "version": "3.12.6"
  }
 },
 "nbformat": 4,
 "nbformat_minor": 2
}
