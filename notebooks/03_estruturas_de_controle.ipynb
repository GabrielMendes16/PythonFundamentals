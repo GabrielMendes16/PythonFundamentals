{
 "cells": [
  {
   "cell_type": "markdown",
   "metadata": {},
   "source": [
    "## Observação:\n",
    "### Para executar os códigos mencionados e realizar os exercícios, é necessário acessar o notebook pelo Google Colab. Basta clicar no link abaixo:\n",
    "[Notebook no Google Colab](https://colab.research.google.com/github/GabrielMendes16/PythonFundamentals/blob/main/notebooks/02_tipos_de_dados.ipynb)"
   ]
  },
  {
   "cell_type": "markdown",
   "metadata": {},
   "source": [
    "# 03 - Estruturas de Controle em Python\n",
    "\n",
    "Neste notebook, vamos explorar as estruturas de controle em Python, que permitem tomar decisões e repetir ações no código.\n",
    "\n",
    "### Tabela de Conteúdos\n",
    "\n",
    "1. [Operadores de Comparação e Lógicos](#operadores-de-comparação-e-lógicos)\n",
    "2. [Estruturas Condicionais](#estruturas-condicionais)\n",
    "   - [if](#if)\n",
    "   - [if...else](#ifelse)\n",
    "   - [if...elif...else](#ifelifelse)\n",
    "3. [Estruturas de Repetição](#estruturas-de-repetição)\n",
    "   - [for](#for)\n",
    "   - [while](#while)\n",
    "4. [Exercícios Práticos](#exercícios-práticos)\n",
    "5. [Questionário](#questionário)\n",
    "5. [Conclusão](#conclusão)\n"
   ]
  },
  {
   "cell_type": "markdown",
   "metadata": {},
   "source": [
    "## Operadores de Comparação e Lógicos\n",
    "\n",
    "Antes de utilizarmos estruturas condicionais, é importante conhecer os operadores que nos ajudam a fazer comparações e avaliações lógicas. Os principais operadores são:\n",
    "\n",
    "- **Operadores de Comparação**:\n",
    "  - `==` : Igualdade\n",
    "  - `!=` : Diferença\n",
    "  - `>`  : Maior que\n",
    "  - `<`  : Menor que\n",
    "  - `>=` : Maior ou igual a\n",
    "  - `<=` : Menor ou igual a\n",
    "\n",
    "- **Operadores Lógicos**:\n",
    "  - `and` : Retorna True se ambas as condições forem verdadeiras\n",
    "  - `or`  : Retorna True se pelo menos uma das condições for verdadeira\n",
    "  - `not` : Inverte o valor da condição (True para False e vice-versa)\n",
    "\n",
    "\n",
    "### Exemplos de Operadores de Comparação\n",
    "\n",
    "```python\n",
    "# Célula de código: Exemplos de operadores de comparação\n",
    "a = 10\n",
    "b = 20\n",
    "\n",
    "print(a == b)  # False\n",
    "print(a != b)  # True\n",
    "print(a > b)   # False\n",
    "print(a < b)   # True\n",
    "print(a >= b)  # False\n",
    "print(a <= b)  # True"
   ]
  },
  {
   "cell_type": "markdown",
   "metadata": {},
   "source": [
    "## Estruturas Condicionais\n",
    "\n",
    "As estruturas condicionais permitem que o programa tome decisões com base em determinadas condições. Em Python, as principais estruturas condicionais são:\n",
    "\n",
    "### if, if...else e if...elif...else."
   ]
  },
  {
   "cell_type": "markdown",
   "metadata": {},
   "source": [
    "### if\n",
    "\n",
    "A estrutura if executa um bloco de código apenas se uma condição especificada for verdadeira.\n",
    "\n",
    "### Exemplo: \n",
    "\n",
    "# Célula de código: Estrutura if\n",
    "```python\n",
    "idade = 18\n",
    "\n",
    "if idade => 18:\n",
    "    print(\"Você é maior de idade.\")\n",
    "```"
   ]
  },
  {
   "cell_type": "code",
   "execution_count": null,
   "metadata": {},
   "outputs": [],
   "source": [
    "# Teste a funcionalidade do código apresentado acima.\n",
    "\n",
    "idade = 18\n",
    "if idade >=18:\n",
    "    print(\"Você é maior de idade\")"
   ]
  },
  {
   "cell_type": "markdown",
   "metadata": {},
   "source": [
    "### O que acontece se o usuário informar uma idade diferente de 18? \n",
    "No código atual, se o usuário informar uma idade menor que 18, o programa não executará nada. Isso ocorre porque o código está programado para responder apenas quando a idade for 18 ou mais. Para tratar situações em que a idade é menor que 18, podemos usar a estrutura else. Isso nos permite fornecer uma resposta alternativa.\n",
    "\n",
    "# Célula de código: Estrutura if...else\n",
    "\n",
    "```python\n",
    "idade = 16\n",
    "\n",
    "if idade >= 18:\n",
    "    print(\"Você é maior de idade.\")\n",
    "else:\n",
    "    print(\"Você é menor de idade.\")\n",
    "```\n",
    "\n",
    "### if...else\n",
    "A estrutura if...else permite que o programa execute um bloco de código se a condição for verdadeira e outro bloco se a condição for falsa."
   ]
  },
  {
   "cell_type": "code",
   "execution_count": null,
   "metadata": {},
   "outputs": [],
   "source": [
    "# Teste a funcionalidade do código apresentado acima, mudando o valor contido na variável idade, para um número inferior a 18.\n",
    "\n",
    "idade = 18\n",
    "if idade >=18:\n",
    "    print(\"Você é maior de idade\")\n",
    "else:\n",
    "    print(\"Você é menor de idade\")"
   ]
  },
  {
   "cell_type": "markdown",
   "metadata": {},
   "source": [
    "### Podemos também fazer uso do:\n",
    "\n",
    "if...elif...else\n",
    "\n",
    "### Esta estrutura if...elif...else é utilizada para verificar múltiplas condições de forma sequencial. O programa executa o bloco de código correspondente à primeira condição verdadeira.\n",
    "\n",
    "```python\n",
    "nota = 85\n",
    "if nota >=90:\n",
    "    print(\"Você Obteve Nota: A\")\n",
    "elif nota >=80:\n",
    "    print(\"Você Obteve Nota: B\")\n",
    "elif nota >=70:\n",
    "    print(\"Você Obteve Nota: C\")\n",
    "elif nota >=60:\n",
    "    print(\"Você Obteve Nota: D\")\n",
    "else:\n",
    "    print(\"Nota Abaixo da média de aprovação\")\n",
    "```"
   ]
  },
  {
   "cell_type": "code",
   "execution_count": null,
   "metadata": {},
   "outputs": [],
   "source": [
    "# Teste a funcionalidade do código apresentado acima, fique avontade para trocar o valor contido na variável nota, para que você possa testar as diferentes \n",
    "# saídas condicionais existentes\n",
    "\n",
    "nota = 8.5\n",
    "if nota >=9:\n",
    "    print(\"Você Obteve Nota: A\")\n",
    "elif nota >=8:\n",
    "    print(\"Você Obteve Nota: B\")\n",
    "elif nota >=7:\n",
    "    print(\"Você Obteve Nota: C\")\n",
    "elif nota >=6:\n",
    "    print(\"Você Obteve Nota: D\")\n",
    "else:\n",
    "    print(\"Nota Abaixo da média de aprovação\")"
   ]
  },
  {
   "cell_type": "markdown",
   "metadata": {},
   "source": [
    "## Estruturas de Repetição\n",
    "\n",
    "As estruturas de repetição permitem que um bloco de código seja executado múltiplas vezes. Em Python, as principais estruturas de repetição são:\n",
    "\n",
    "### for e while.\n",
    "\n",
    "### for\n",
    "A estrutura for é utilizada para iterar sobre elementos de uma sequência (como listas, tuplas, strings) ou objetos iteráveis.\n",
    "\n",
    "### Objetos iteráveis:\n",
    "São aqueles que podem ser percorridos, ou seja, que permitem acessar seus elementos um a um em uma sequência. Em Python, um objeto é considerado iterável se ele pode ser usado em uma estrutura de repetição como for ou se pode ser passado para funções que esperam uma sequência de itens, como list(), sum(), entre outras.\n",
    "\n",
    "### O que torna um objeto iterável?\n",
    "Para que um objeto seja considerado iterável em Python, ele precisa implementar o método especial __iter__() ou o método __getitem__() como listas e tuplas possuem. Esses métodos permitem que o objeto seja percorrido. Ao ser chamado em um loop for, por exemplo, o Python automaticamente chama esses métodos para acessar os itens da sequência.\n",
    "\n",
    "### Exemplo utilizando o for:\n",
    "\n",
    "# Célula de código: Estrutura for\n",
    "```python\n",
    "frutas = [\"Maçã\", \"Banana\", \"Cereja\"]\n",
    "\n",
    "for fruta in frutas:\n",
    "    print(fruta)\n",
    "```"
   ]
  },
  {
   "cell_type": "code",
   "execution_count": null,
   "metadata": {},
   "outputs": [],
   "source": [
    "frutas = [\"Maçã\", \"Banana\", \"Cereja\"]\n",
    "for fruta in frutas:\n",
    "    print(fruta)"
   ]
  },
  {
   "cell_type": "markdown",
   "metadata": {},
   "source": [
    "### Uso do range()\n",
    "Podemos também utilizar o range() para pecorrer a nossa lista acessando os índices da lista.\n",
    "ao utilizar o range() iremos gerar uma sequência de números, e, como as listas são indexadas, você pode usá-lo para acessar os elementos de uma lista usando seus índices.\n",
    "Para isso, iremos precisar usar também a função len() para nos auxiliar.\n",
    "\n",
    "# exemplo:\n",
    "\n",
    "```python\n",
    "frutas = [\"Maçã\", \"Banana\", \"Cereja\"]\n",
    "for i in range(len(frutas)):  \n",
    "    print(frutas[i])\n",
    "```\n",
    "# Utilizando o range() geramos uma sequência de números de 0 até len(frutas)-1\n",
    "Com isso quando usamos range(len(frutas)) geramos os números de 0 até 2, como o comprimento da nossa lista é 3, então ele vai de 0 a len(frutas)-1 com isso conseguimos acessar cada fruta contida em nossa lista pelo índice, usando frutas[i]\n",
    "\n"
   ]
  },
  {
   "cell_type": "code",
   "execution_count": null,
   "metadata": {},
   "outputs": [],
   "source": [
    "frutas = [\"Maçã\", \"Banana\", \"Cereja\"]\n",
    "for i in range(len(frutas)):  \n",
    "    print(frutas[i])"
   ]
  },
  {
   "cell_type": "markdown",
   "metadata": {},
   "source": [
    "### Também é possível utilizar a função range() para iterar um número específico de vezes.\n",
    "```python\n",
    "for i in range(6):\n",
    "    print(f\"Percorremos {i} vez(es)\")\n",
    "```\n",
    "\n",
    "### Explicação do código acima:\n",
    "Ao rodar este código, iremos pecorrer do numero 0 ao 5\n",
    "\n",
    "### Por que ele não pecorrer de 0 a 6 já que a declaração é range(6)\n",
    "A função range(6) gera uma sequência de números começando em 0 e terminando antes do número especificado, que neste caso é 6. Portanto, a sequência gerada será 0, 1, 2, 3, 4, 5. \n",
    "O número 6 não é incluído na sequência, pois a função range() sempre exclui o limite superior. Então se fosse o intuito de exibir o número 6 fariamos da seguitne forma:\n",
    "\n",
    "### range(7)\n",
    "\n"
   ]
  },
  {
   "cell_type": "code",
   "execution_count": null,
   "metadata": {},
   "outputs": [],
   "source": [
    "# Teste a funcionalidade do código apresentado acima.\n",
    "\n",
    "for i in range(6):\n",
    "    print(f\"Percorremos {i} vez(es)\")"
   ]
  },
  {
   "cell_type": "markdown",
   "metadata": {},
   "source": [
    "### Mais detalhes sobre a função range()\n",
    "A função range(), pode receber 3 agurmentos, sendo ele start, stop, e step\n",
    "\n",
    "1. ### start (opcional):\n",
    "Define o número a partir do qual a contagem começa. Se não for especificado, o padrão é 0.\n",
    "Exemplo: range(3) inicia em 0, enquanto range(2, 6) inicia em 2.\n",
    "\n",
    "2. ### stop (obrigatório):\n",
    "Define o número que define o limite superior da contagem, mas não é incluído na sequência. A contagem vai até um número um a menos que o valor do argumento stop.\n",
    "Exemplo: range(2, 6) gera a sequência 2, 3, 4, 5.\n",
    "\n",
    "3. ### step (opcional):\n",
    "Define o valor que indica o incremento entre os números na sequência. O padrão é 1. Se for definido como um número negativo, a sequência será gerada em ordem decrescente.\n",
    "Exemplo: range(0, 10, 2) gera a sequência 0, 2, 4, 6, 8, enquanto range(10, 0, -2) gera a sequência 10, 8, 6, 4, 2.\n",
    "\n",
    "# Veja a criação de três for utilizando os três agurmentos \n",
    "```python\n",
    "for i in range(5):\n",
    "    print(f\"Pecorremos {i} vez(es)\")\n",
    "print(\"--------------------\")\n",
    "for i in range(1,5):\n",
    "    print(f\"Pecorremos {i} vez(es)\")\n",
    "print(\"--------------------\")\n",
    "for i in range(1,11,3):\n",
    "    print(f\"Pecorremos {i}\")\n",
    "```"
   ]
  },
  {
   "cell_type": "code",
   "execution_count": null,
   "metadata": {},
   "outputs": [],
   "source": [
    "# Teste a funcionalidade do código apresentado acima.\n",
    "\n",
    "for i in range(5):\n",
    "    print(f\"Pecorremos {i} vez(es)\")\n",
    "print(\"--------------------\")\n",
    "for i in range(1,5):\n",
    "    print(f\"Pecorremos {i} vez(es)\")\n",
    "print(\"--------------------\")\n",
    "for i in range(1,11,3):\n",
    "    print(f\"Pecorremos {i}\")"
   ]
  },
  {
   "cell_type": "markdown",
   "metadata": {},
   "source": [
    "### Lembre-se\n",
    "A principal função de range() é gerar uma sequência de números. Ele é muito útil quando você precisa executar um loop um número específico de vezes ou quando precisa acessar os índices de uma sequência, como listas ou tuplas. O range() é bastante flexível e pode ser configurado para gerar números dentro de um intervalo, permitindo controlar o ponto inicial, final e o passo (incremento)."
   ]
  },
  {
   "cell_type": "markdown",
   "metadata": {},
   "source": [
    "### while\n",
    "\n",
    "A estrutura while executa um bloco de código enquanto uma condição especificada for verdadeira.\n",
    "\n",
    "### Célula de código: Estrutura while\n",
    "```python\n",
    "\n",
    "contador = 0\n",
    "while contador < 5:\n",
    "    print(f\"Contador: {contador}\")\n",
    "    contador += 1\n",
    "```\n",
    "### Explicação do código \n",
    "No início, contador é inicializado com o valor 0. Enquanto contador for menor que 5, o programa imprimirá o valor atual do contador e, em seguida, incrementará o valor de contador em 1. Quando contador atingir 5, a condição contador < 5 se tornará falsa e o loop será encerrado.\n",
    "\n"
   ]
  },
  {
   "cell_type": "code",
   "execution_count": null,
   "metadata": {},
   "outputs": [],
   "source": [
    "contador = 0\n",
    "while contador < 5:\n",
    "    if contador == 0:\n",
    "        print(f\"Eu começo no valor: {contador}\")\n",
    "    elif contador == 1:\n",
    "        print(f\"Recebo o valor: {contador}\")\n",
    "    elif contador == 2:\n",
    "        print(f\"Agora eu ganho mais 1 ficando com {contador}\")\n",
    "    elif contador == 3:\n",
    "        print(f\"Agora eu ganho mais 1 ficando com {contador}\")\n",
    "    elif contador == 4:\n",
    "        print(f\"Agora eu ganho mais 1 ficando com {contador}\")\n",
    "    contador = contador + 1\n",
    "print(\"Não irei exibir o ganho de mais 1, porque, após atingir o valor 4, o contador é incrementado para 5, fazendo com que a condição do while se torne falsa e encerrando o loop.\")"
   ]
  },
  {
   "cell_type": "markdown",
   "metadata": {},
   "source": [
    "### Cuidado com Loops Infinitos: \n",
    "É importante garantir que a condição do while eventualmente se torne falsa, evitando loops infinitos que podem travar o programa.\n",
    "\n",
    "### Exemplo de um loop infinito(não execute)\n",
    "\n",
    "```python\n",
    "\n",
    "while True:\n",
    "    print(\"Este loop nunca termina!\")\n",
    "\n",
    "```"
   ]
  },
  {
   "cell_type": "markdown",
   "metadata": {},
   "source": [
    "## Exercícios Práticos\n",
    "\n",
    "Abaixo, seguem alguns exercícios para você aplicar as estruturas de controle estudadas.\n",
    "\n",
    "### Exercício 1: Verificação de Número Par ou Ímpar\n",
    "Escreva um programa que solicite ao usuário um número inteiro e determine se ele é par ou ímpar.\n",
    "\n",
    "```python\n",
    "numero = input(\"Descubra se um número é impa ou par, informando ele: \")\n",
    "numero = int(numero)\n",
    "\n",
    "if numero % 2 == 0:\n",
    "    print(f\"O número {numero} é: Par\")\n",
    "else:\n",
    "    print(f\"O numero {numero} é: Ímpar\")\n",
    "```"
   ]
  },
  {
   "cell_type": "code",
   "execution_count": 104,
   "metadata": {},
   "outputs": [
    {
     "name": "stdout",
     "output_type": "stream",
     "text": [
      "O numero 9 é: Ímpar\n"
     ]
    }
   ],
   "source": [
    "# Teste a funcionalidade do código apresentado acima.\n",
    "\n",
    "numero = input(\"Descubra se um número é impa ou par, informando ele: \")\n",
    "numero = int(numero)\n",
    "\n",
    "if numero % 2 == 0:\n",
    "    print(f\"O número {numero} é: Par\")\n",
    "else:\n",
    "    print(f\"O numero {numero} é: Ímpar\")"
   ]
  },
  {
   "cell_type": "markdown",
   "metadata": {},
   "source": [
    "### Exercício 2: Calculadora Simples\n",
    "Crie uma calculadora que peça ao usuário dois números e a operação desejada (+, -, *, /). Realize a operação e exiba o resultado.\n",
    "\n",
    "```python\n",
    "\n",
    "primeiro_numero = input(\"\")\n",
    "primeiro_numero = int(primeiro_numero)\n",
    "segundo_numero = input(\"\")\n",
    "segundo_numero = int(segundo_numero)\n",
    "operacao = input(\"Informe a operação deseja: Opções(+, -, *, /)\")\n",
    "\n",
    "if operacao == \"+\":\n",
    "    resultado = primeiro_numero + segundo_numero\n",
    "    print(f\"A soma entre {primeiro_numero} e {segundo_numero} foi: {resultado}\")\n",
    "elif operacao == \"-\":\n",
    "     resultado = primeiro_numero - segundo_numero\n",
    "     print(f\"A subtração entre {primeiro_numero} e {segundo_numero} foi: {resultado}\")\n",
    "elif operacao == \"*\":\n",
    "     resultado = primeiro_numero * segundo_numero\n",
    "     print(f\"A mutiplicação entre {primeiro_numero} e {segundo_numero} foi: {resultado}\")\n",
    "elif operacao == \"/\":\n",
    "    if segundo_numero != 0:\n",
    "        resultado = primeiro_numero / segundo_numero\n",
    "        print(f\"A divisão entre {primeiro_numero} e {segundo_numero} foi: {resultado}\")\n",
    "    else:\n",
    "        print(\"Divisão por 0 não é permitida\")\n",
    "else:\n",
    "    print(\"Entrada Inválida\")\n",
    "```"
   ]
  },
  {
   "cell_type": "code",
   "execution_count": 116,
   "metadata": {},
   "outputs": [
    {
     "name": "stdout",
     "output_type": "stream",
     "text": [
      "Entrada Inválida\n"
     ]
    }
   ],
   "source": [
    "# Teste a funcionalidade do código apresentado acima.\n",
    "\n",
    "primeiro_numero = input(\"\")\n",
    "primeiro_numero = int(primeiro_numero)\n",
    "segundo_numero = input(\"\")\n",
    "segundo_numero = int(segundo_numero)\n",
    "operacao = input(\"Informe a operação deseja: Opções(+, -, *, /)\")\n",
    "\n",
    "if operacao == \"+\":\n",
    "    resultado = primeiro_numero + segundo_numero\n",
    "    print(f\"A soma entre {primeiro_numero} e {segundo_numero} foi: {resultado}\")\n",
    "elif operacao == \"-\":\n",
    "     resultado = primeiro_numero - segundo_numero\n",
    "     print(f\"A subtração entre {primeiro_numero} e {segundo_numero} foi: {resultado}\")\n",
    "elif operacao == \"*\":\n",
    "     resultado = primeiro_numero * segundo_numero\n",
    "     print(f\"A mutiplicação entre {primeiro_numero} e {segundo_numero} foi: {resultado}\")\n",
    "elif operacao == \"/\":\n",
    "    if segundo_numero != 0:\n",
    "        resultado = primeiro_numero / segundo_numero\n",
    "        print(f\"A divisão entre {primeiro_numero} e {segundo_numero} foi: {resultado}\")\n",
    "    else:\n",
    "        print(\"Divisão por 0 não é permitida\")\n",
    "else:\n",
    "    print(\"Entrada Inválida\")       \n",
    "     "
   ]
  },
  {
   "cell_type": "markdown",
   "metadata": {},
   "source": [
    "### Exercício 3: Fatorial de um Número\n",
    "Escreva um programa que calcule o fatorial de um número fornecido pelo usuário utilizando a estrutura for.\n",
    "\n",
    "```python\n",
    "numero = input(\"Informe um número para descobri seu fatorial: \")\n",
    "numero = int(numero)\n",
    "\n",
    "fatorial = 1\n",
    "\n",
    "if numero < 0:\n",
    "    print(\"Não existe fatorial para números negativos\")\n",
    "elif numero == 0:\n",
    "    print(\"Fatorial de 0 é: 1\")\n",
    "else:\n",
    "    for i in range(1, numero, 1):\n",
    "        fatorial = fatorial * i\n",
    "    print(f\"O fatorial do número fornecido é: {fatorial}\")\n",
    "```\n"
   ]
  },
  {
   "cell_type": "code",
   "execution_count": null,
   "metadata": {},
   "outputs": [],
   "source": [
    "# Teste a funcionalidade do código apresentado acima.\n",
    "\n",
    "numero = input(\"Informe um número para descobrir seu fatorial: \")\n",
    "numero = int(numero)\n",
    "\n",
    "fatorial = 1\n",
    "\n",
    "if numero < 0:\n",
    "    print(\"Não existe fatorial para números negativos\")\n",
    "elif numero == 0:\n",
    "    print(\"Fatorial de 0 é: 1\")\n",
    "else:\n",
    "    for i in range(1, numero, 1):\n",
    "        fatorial = fatorial * i\n",
    "    print(f\"O fatorial do número fornecido é: {fatorial}\")"
   ]
  },
  {
   "cell_type": "code",
   "execution_count": null,
   "metadata": {},
   "outputs": [],
   "source": [
    "# Exercício 4: Verificação de Ano Bissexto\n",
    "# Escreva um programa que solicite ao usuário um ano e determine se ele é bissexto.\n",
    "# Um ano é bissexto se for divisível por 4, mas não por 100, exceto se for também divisível por 400"
   ]
  },
  {
   "cell_type": "code",
   "execution_count": null,
   "metadata": {},
   "outputs": [],
   "source": [
    "# Exercício 5: Determinação de Número Primo\n",
    "# Escreva um programa que solicite ao usuário um número inteiro positivo e determine se ele é um número primo. \n",
    "# Um número primo é aquele que é maior que 1 e possui apenas dois divisores: 1 e ele mesmo."
   ]
  },
  {
   "cell_type": "markdown",
   "metadata": {},
   "source": [
    "## Questionário\n",
    "- Preparei um questionário de dez questões, onde você pode se provar de forma teórica, basta clicar no link abaixo que você será direcionado para este questionário.\n",
    "\n",
    "[Questionário Funções](https://forms.gle/ocTMGAhBvt5f3DvGA)"
   ]
  },
  {
   "cell_type": "markdown",
   "metadata": {},
   "source": [
    "## Conclusão\n",
    "- Neste notebook, exploramos as principais estruturas de controle em Python, essenciais para a construção de programas lógicos e eficientes. Vimos como utilizar operadores de comparação e lógicos para avaliar condições, estruturas condicionais como if, if...else e if...elif...else para tomar decisões no fluxo do programa, e estruturas de repetição como for e while para executar blocos de código de forma iterativa."
   ]
  }
 ],
 "metadata": {
  "kernelspec": {
   "display_name": "Python 3",
   "language": "python",
   "name": "python3"
  },
  "language_info": {
   "codemirror_mode": {
    "name": "ipython",
    "version": 3
   },
   "file_extension": ".py",
   "mimetype": "text/x-python",
   "name": "python",
   "nbconvert_exporter": "python",
   "pygments_lexer": "ipython3",
   "version": "3.12.7"
  }
 },
 "nbformat": 4,
 "nbformat_minor": 2
}
