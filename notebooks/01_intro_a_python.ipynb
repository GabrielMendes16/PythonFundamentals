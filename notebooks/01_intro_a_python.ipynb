{
 "cells": [
  {
   "cell_type": "markdown",
   "metadata": {},
   "source": [
    "# 01 - Introdução ao Python\n",
    "\n",
    "Neste notebook, vamos explorar os conceitos básicos da linguagem Python, incluindo sua instalação, o ambiente de desenvolvimento e alguns exemplos simples.\n",
    "\n",
    "## Tabela de Conteúdos\n",
    "\n",
    "1. [O que é Python?](#o-que-é-python)\n",
    "2. [Instalação do Python](#instalação-do-python)\n",
    "3. [Ambiente de Desenvolvimento](#ambiente-de-desenvolvimento)\n",
    "4. [Primeiro Código em Python](#primeiro-código-em-python)\n",
    "5. [Variáveis e Tipos de Dados](#variáveis-e-tipos-de-dados)\n",
    "6. [Exercícios Práticos](#exercícios-práticos)"
   ]
  },
  {
   "cell_type": "markdown",
   "metadata": {},
   "source": [
    "## O que é Python?\n",
    "\n",
    "Python é uma linguagem de programação de alto nível, interpretada e amplamente utilizada para desenvolvimento web, automação, análise de dados e aprendizado de máquina."
   ]
  },
  {
   "cell_type": "markdown",
   "metadata": {},
   "source": [
    "## Instalação do Python\n",
    "\n",
    "Para instalar o Python em sua máquina, siga os passos abaixo:\n",
    "\n",
    "1. Acesse o site oficial do Python: [python.org](https://www.python.org/).\n",
    "2. Baixe a versão mais recente do Python para o seu sistema operacional.\n",
    "3. Siga as instruções de instalação."
   ]
  },
  {
   "cell_type": "markdown",
   "metadata": {},
   "source": [
    "**Verificando a Instalação**\n",
    "\n",
    "Após a instalação, você pode verificar se o Python foi instalado corretamente. Abra o terminal ou prompt de comando e execute:\n",
    "\n",
    "python --version"
   ]
  },
  {
   "cell_type": "markdown",
   "metadata": {},
   "source": [
    "## Ambiente de Desenvolvimento\n",
    "\n",
    "Para desenvolver em Python, você pode usar vários ambientes de desenvolvimento. Algumas opções populares incluem:\n",
    "\n",
    "Jupyter Notebook: Ideal para protótipos e aprendizado interativo.\n",
    "Visual Studio Code: Um editor de código leve e poderoso com suporte para Python.\n",
    "PyCharm: Um IDE robusto e completo para desenvolvimento em Python."
   ]
  },
  {
   "cell_type": "markdown",
   "metadata": {},
   "source": [
    "## Primeiro Código em Python\n",
    "\n",
    "Neste código, utilizaremos a função chamada print para exibir uma mensagem na tela. No nosso caso, a mensagem será \"Olá, Mundo!\". Você pode usar a função print para mostrar qualquer mensagem na tela, basta passar como argumento a informação que deseja exibir. Se a informação for do tipo string (texto), ela deve estar entre aspas duplas ou simples."
   ]
  },
  {
   "cell_type": "code",
   "execution_count": 33,
   "metadata": {},
   "outputs": [
    {
     "name": "stdout",
     "output_type": "stream",
     "text": [
      "Olá, Mundo!\n"
     ]
    }
   ],
   "source": [
    "# primeiro programa em python\n",
    "# Ao executar você verá a saída \"Olá, Mundo!\"\n",
    "\n",
    "print(\"Olá, Mundo!\")"
   ]
  },
  {
   "cell_type": "markdown",
   "metadata": {},
   "source": [
    "## O que é uma variavel ? \n",
    "Uma variável é um espaço reservado na memória onde você pode armazenar (guardar) informações. As variáveis são essenciais para a programação, pois permitem que você trabalhe com dados de maneira dinâmica e flexível.\n",
    "\n",
    "## Variáveis e Tipos de Dados\n",
    "\n",
    "Em Python, você pode armazenar diferentes tipos de valores em variáveis. Vamos ver alguns exemplos:"
   ]
  },
  {
   "cell_type": "code",
   "execution_count": 11,
   "metadata": {},
   "outputs": [
    {
     "data": {
      "text/plain": [
       "'\\nNote que na declaração de variáveis do tipo inteiro e float não precisamos colocar o dado entre aspas, por que o python entende que é um dado\\nnumeral e não textual\\n'"
      ]
     },
     "execution_count": 11,
     "metadata": {},
     "output_type": "execute_result"
    }
   ],
   "source": [
    "# Essa variável é do tipo string, pois contém um texto.\n",
    "nome = \"Alice\"\n",
    "\n",
    "# Essa variável é do tipo inteiro, pois armazena um número sem parte decimal.\n",
    "idade = 30\n",
    "\n",
    "# Essa variável é do tipo float, pois contém um número com parte decimal.\n",
    "altura = 1.70\n",
    "\n",
    "# Essa variável é do tipo booleano, que representa valores de verdade: True (verdadeiro) ou False (falso).\n",
    "verdade = True\n",
    "verdade = False\n",
    "\n",
    "\"\"\"\n",
    "Note que, na declaração de variáveis do tipo inteiro e float, não precisamos colocar os valores entre aspas, \n",
    "pois o Python os reconhece como dados numéricos e não como texto.\n",
    "\n",
    "\"\"\"\n"
   ]
  },
  {
   "cell_type": "code",
   "execution_count": 24,
   "metadata": {},
   "outputs": [
    {
     "name": "stdout",
     "output_type": "stream",
     "text": [
      "Olá me chamo Alice e possuo 30 anos e 1.7 de altura\n",
      "Ola me chamo Alice e possuo 30 anos e 1.7 de altura\n",
      "Ola me chamo Alice e possuo 30 anos e 1.7 de altura\n"
     ]
    }
   ],
   "source": [
    "# exemplo de declaração de variável e exibição na tela\n",
    "\n",
    "nome = \"Alice\"\n",
    "idade = 30\n",
    "altura = 1.70\n",
    "\n",
    "print(f\"Olá me chamo {nome} e possuo {idade} anos e {altura} de altura\")\n",
    "print(\"Ola me chamo\", nome, \"e possuo\", idade, \"anos e\", altura, \"de altura\")\n",
    "print(\"Ola me chamo \" + nome + \" e possuo \" + str(idade) + \" anos e \" + str(altura) + \" de altura\")"
   ]
  },
  {
   "cell_type": "markdown",
   "metadata": {},
   "source": [
    "# Explicação do código acima:\n",
    "\n",
    "Neste código, mostrei que existem várias maneiras de exibir informações na tela para o usuário. No exemplo acima, mencionei três abordagens diferentes, que, embora distintas, retornam o mesmo resultado esperado.\n",
    "\n",
    "1. F-Strings: A primeira forma é a mais simples e eficaz, utilizando f-strings, que é uma forma de interpolação de strings. Essa abordagem permite inserir variáveis diretamente na string, tornando o código mais legível.\n",
    "\n",
    "2. Concatenação Simples: A segunda forma utiliza a concatenação entre o texto e as variáveis. Aqui, usamos a vírgula para separar os elementos, que o Python interpreta como uma sequência a ser exibida.\n",
    "\n",
    "3. Concatenação com o Operador +: A terceira forma também usa concatenação, mas com o operador +. No entanto, ao utilizá-lo com variáveis de tipos diferentes, como texto e numéricos, ocorre um erro. Isso acontece porque não podemos juntar texto a números diretamente. Para evitar esse problema, usamos o método str() para converter as variáveis numéricas em texto, permitindo que a concatenação funcione corretamente.\n",
    "\n",
    "# Recomendo sempre utilizar a primeira opção (f-strings) pela sua simplicidade e clareza.\n",
    "\n"
   ]
  },
  {
   "cell_type": "markdown",
   "metadata": {},
   "source": [
    "## Exercícios Práticos\n",
    "\n",
    "# Exercício 1: \n",
    "Altere o código abaixo para que ele imprima o seu nome e a sua idade."
   ]
  },
  {
   "cell_type": "code",
   "execution_count": 32,
   "metadata": {},
   "outputs": [
    {
     "name": "stdout",
     "output_type": "stream",
     "text": [
      "Me chamo: Seu Nome e tenho: Sua Idade anos\n"
     ]
    }
   ],
   "source": [
    "# Exercício 1:\n",
    "nome = \"Seu Nome\"\n",
    "idade = \"Sua Idade\"\n",
    "print(f\"Me chamo: {nome} e tenho: {idade} anos\")"
   ]
  },
  {
   "cell_type": "markdown",
   "metadata": {},
   "source": [
    "# Exercício 2: \n",
    "Crie uma variável chamada cidade e atribua o nome da sua cidade. Depois, imprima uma mensagem que inclua o nome da cidade."
   ]
  },
  {
   "cell_type": "code",
   "execution_count": 31,
   "metadata": {},
   "outputs": [
    {
     "name": "stdout",
     "output_type": "stream",
     "text": [
      "Minha cidade é: Jaboatão\n"
     ]
    }
   ],
   "source": [
    "# Exercício 2:\n"
   ]
  },
  {
   "cell_type": "markdown",
   "metadata": {},
   "source": [
    "# Conclusão\n",
    "Neste notebook, introduzimos os conceitos básicos do Python, incluindo instalação, ambientes de desenvolvimento e criação de um programa simples. Pratique os exercícios para solidificar seu conhecimento.\n",
    "\n"
   ]
  }
 ],
 "metadata": {
  "kernelspec": {
   "display_name": "Python 3",
   "language": "python",
   "name": "python3"
  },
  "language_info": {
   "codemirror_mode": {
    "name": "ipython",
    "version": 3
   },
   "file_extension": ".py",
   "mimetype": "text/x-python",
   "name": "python",
   "nbconvert_exporter": "python",
   "pygments_lexer": "ipython3",
   "version": "3.12.6"
  }
 },
 "nbformat": 4,
 "nbformat_minor": 2
}
